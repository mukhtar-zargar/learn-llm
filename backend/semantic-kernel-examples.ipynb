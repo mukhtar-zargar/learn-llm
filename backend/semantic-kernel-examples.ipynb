{
 "cells": [
  {
   "cell_type": "markdown",
   "id": "e2ad13ed",
   "metadata": {},
   "source": [
    "### Semantic Kernel Examples"
   ]
  },
  {
   "cell_type": "code",
   "execution_count": null,
   "id": "81390602",
   "metadata": {},
   "outputs": [],
   "source": [
    "import os\n",
    "\n",
    "from dotenv import load_dotenv\n",
    "\n",
    "from semantic_kernel.agents import ChatCompletionAgent, ChatHistoryAgentThread\n",
    "from semantic_kernel.connectors.ai.open_ai import AzureChatCompletion\n",
    "from semantic_kernel.functions import kernel_function\n",
    "from semantic_kernel import Kernel"
   ]
  },
  {
   "cell_type": "code",
   "execution_count": 21,
   "id": "afcaf145",
   "metadata": {},
   "outputs": [
    {
     "name": "stdout",
     "output_type": "stream",
     "text": [
      "You: Kashmir\n",
      "Agent: Kashmir is a beautiful region located in the northern part of India, known for its stunning natural beauty, including snow-capped mountains, lush green valleys, and serene lakes. Here are some recommendations for your vacation to Kashmir:\n",
      "\n",
      "1. **Srinagar**: The summer capital of Jammu and Kashmir, Srinagar is famous for its breathtaking Dal Lake, houseboats, and Mughal gardens like Shalimar Bagh and Nishat Bagh.\n",
      "\n",
      "2. **Gulmarg**: Known as the \"Meadow of Flowers,\" Gulmarg is a popular hill station and a paradise for nature lovers and adventure enthusiasts. You can enjoy activities like skiing, trekking, and golfing here.\n",
      "\n",
      "3. **Pahalgam**: This picturesque town is surrounded by lush forests, pristine rivers, and meadows. It is a perfect destination for those seeking tranquility and outdoor adventures like hiking and fishing.\n",
      "\n",
      "4. **Sonamarg**: Also known as the \"Meadow of Gold,\" Sonamarg is a scenic valley located at an altitude of 2740 meters. It offers stunning views of the snow-capped mountains and is an excellent base for trekking and camping expeditions.\n",
      "\n",
      "5. **Shikara Ride on Dal Lake**: Don't miss the opportunity to take a relaxing Shikara ride on the Dal Lake, where you can enjoy the beauty of Srinagar from the water.\n",
      "\n",
      "6. **Gondola Ride in Gulmarg**: Experience the world's second-highest cable car ride in Gulmarg, which offers panoramic views of the surrounding mountains.\n",
      "\n",
      "7. **Try Kashmiri Cuisine**: Treat your taste buds to the local Kashmiri cuisine, which is known for its aromatic spices and rich flavors. Don't forget to try the famous Rogan Josh, Wazwan, and Kashmiri Chai.\n",
      "\n",
      "8. **Visit Mughal Gardens**: Explore the stunning Mughal gardens in Srinagar, such as Shalimar Bagh, Nishat Bagh, and Chashme Shahi, which reflect the grandeur of the Mughal era.\n",
      "\n",
      "Remember to check the weather conditions before planning your trip, as Kashmir experiences different seasons throughout the year, with summer (May to August) being the peak tourist season. Enjoy your vacation in the heavenly paradise of Kashmir!\n"
     ]
    }
   ],
   "source": [
    "load_dotenv()\n",
    "\n",
    "api_key = os.getenv(\"AZURE_OPENAI_API_KEY\")\n",
    "base_url = os.getenv(\"AZURE_OPENAI_API_ENDPOINT\")\n",
    "ai_model_id = os.getenv(\"DEPLOYMENT_NAME\")\n",
    "\n",
    "kernel = Kernel()\n",
    "\n",
    "chat_completion_service = AzureChatCompletion(\n",
    "    service_id=\"azure-gpt35\",\n",
    "    deployment_name=ai_model_id,\n",
    "    api_key=api_key,\n",
    "    endpoint=base_url,\n",
    ")\n",
    "\n",
    "kernel.add_service(chat_completion_service)\n",
    "\n",
    "agent = ChatCompletionAgent(\n",
    "    kernel=kernel,\n",
    "    name=\"TravelAgent\",\n",
    "    instructions=\"You are a helpful AI Agent that can help plan vacations for customers at random destinations.\",\n",
    ")\n",
    "\n",
    "async def main():\n",
    "    thread: ChatHistoryAgentThread | None = None\n",
    "\n",
    "    user_input = input(\"Enter your travel destination: \")\n",
    "    messages = []\n",
    "\n",
    "    while user_input.lower() != \"exit\":\n",
    "        print(f\"You: {user_input}\")\n",
    "        messages.append(user_input)\n",
    "        first_chunk = True\n",
    "        async for response in agent.invoke_stream(\n",
    "            messages=messages,\n",
    "            thread=thread,\n",
    "        ):\n",
    "            if first_chunk:\n",
    "                print(f\"Agent: {response}\", end=\"\", flush=True)\n",
    "                first_chunk = False\n",
    "            \n",
    "            print(response, end=\"\", flush=True)\n",
    "            messages.append(response.content)\n",
    "            thread = response.thread\n",
    "        print()\n",
    "        # Get the next user input\n",
    "        user_input = input(\"You: \")\n",
    "    \n",
    "    await thread.delete() if thread else None\n",
    "\n",
    "\n",
    "await main()\n"
   ]
  }
 ],
 "metadata": {
  "kernelspec": {
   "display_name": "venv",
   "language": "python",
   "name": "python3"
  },
  "language_info": {
   "codemirror_mode": {
    "name": "ipython",
    "version": 3
   },
   "file_extension": ".py",
   "mimetype": "text/x-python",
   "name": "python",
   "nbconvert_exporter": "python",
   "pygments_lexer": "ipython3",
   "version": "3.11.9"
  }
 },
 "nbformat": 4,
 "nbformat_minor": 5
}
