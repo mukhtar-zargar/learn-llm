{
 "cells": [
  {
   "cell_type": "code",
   "execution_count": null,
   "id": "d3a10362",
   "metadata": {
    "vscode": {
     "languageId": "markdown"
    }
   },
   "outputs": [],
   "source": [
    "### Azure AI Engineer Examples\n"
   ]
  },
  {
   "cell_type": "code",
   "execution_count": 15,
   "id": "1ca0768b",
   "metadata": {},
   "outputs": [],
   "source": [
    "from dotenv import load_dotenv\n",
    "import os\n",
    "from azure.ai.textanalytics import TextAnalyticsClient\n",
    "from azure.core.credentials import AzureKeyCredential\n",
    "from azure.ai.projects import AIProjectClient\n",
    "from azure.identity import DefaultAzureCredential"
   ]
  },
  {
   "cell_type": "code",
   "execution_count": 12,
   "id": "34083e50",
   "metadata": {},
   "outputs": [
    {
     "name": "stdout",
     "output_type": "stream",
     "text": [
      "Document sentiment: negative with confidence scores {'positive': 0.0, 'neutral': 0.0, 'negative': 1.0}\n",
      "Document language: English with confidence score 1.0\n"
     ]
    }
   ],
   "source": [
    "def main():\n",
    "    load_dotenv()\n",
    "\n",
    "    # Get the Azure Text Analytics endpoint and key from environment variables\n",
    "    endpoint = os.getenv(\"AZURE_AI_SERVICE_ENDPOINT\")\n",
    "    key = os.getenv(\"AZURE_AI_SERVICE_API_KEY\")\n",
    "\n",
    "    client = TextAnalyticsClient(endpoint=endpoint, credential=AzureKeyCredential(key))\n",
    "\n",
    "    # Example text to analyze\n",
    "    documents = [\"The food and service were unacceptable. While the host was nice, the waiter was rude and food was cold.!\"]\n",
    "\n",
    "    response = client.analyze_sentiment(documents=documents)\n",
    "\n",
    "    for doc in response:\n",
    "        print(f\"Document sentiment: {doc.sentiment} with confidence scores {doc.confidence_scores}\")\n",
    "\n",
    "    response = client.detect_language(documents=documents)\n",
    "\n",
    "    for doc in response:\n",
    "        print(f\"Document language: {doc.primary_language.name} with confidence score {doc.primary_language.confidence_score}\")\n",
    "\n",
    "if __name__ == \"__main__\":\n",
    "    main()"
   ]
  },
  {
   "cell_type": "code",
   "execution_count": null,
   "id": "2fbc3e57",
   "metadata": {},
   "outputs": [],
   "source": [
    "project = AIProjectClient(\n",
    "    endpoint=\"https://test-foundry-gen-ai-resource.services.ai.azure.com/api/projects/test-foundry-gen-ai\",\n",
    "    credential=DefaultAzureCredential(),\n",
    "    # subscription_id=\"b1606814-b66b-4079-b67e-600ecd89c268\",\n",
    "    # resource_group_name=\"gen-ai\",\n",
    "    # project_name=\"test-foundry-gen-ai\"\n",
    ")\n",
    "\n",
    "connections = project.connections\n",
    "print(\"List all connections:\")\n",
    "for connection in connections.list():\n",
    "    print(f\"{connection.name} ({connection.type})\")\n",
    "\n"
   ]
  }
 ],
 "metadata": {
  "kernelspec": {
   "display_name": "venv",
   "language": "python",
   "name": "python3"
  },
  "language_info": {
   "codemirror_mode": {
    "name": "ipython",
    "version": 3
   },
   "file_extension": ".py",
   "mimetype": "text/x-python",
   "name": "python",
   "nbconvert_exporter": "python",
   "pygments_lexer": "ipython3",
   "version": "3.11.9"
  }
 },
 "nbformat": 4,
 "nbformat_minor": 5
}
